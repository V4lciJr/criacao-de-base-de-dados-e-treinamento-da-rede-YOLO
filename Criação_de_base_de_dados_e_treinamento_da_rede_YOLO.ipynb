{
  "nbformat": 4,
  "nbformat_minor": 0,
  "metadata": {
    "colab": {
      "provenance": [],
      "gpuType": "T4",
      "authorship_tag": "ABX9TyPF5BO/pEvq72Xx79TL1AKJ",
      "include_colab_link": true
    },
    "kernelspec": {
      "name": "python3",
      "display_name": "Python 3"
    },
    "language_info": {
      "name": "python"
    },
    "accelerator": "GPU"
  },
  "cells": [
    {
      "cell_type": "markdown",
      "metadata": {
        "id": "view-in-github",
        "colab_type": "text"
      },
      "source": [
        "<a href=\"https://colab.research.google.com/github/V4lciJr/criacao-de-base-de-dados-e-treinamento-da-rede-YOLO/blob/main/Cria%C3%A7%C3%A3o_de_base_de_dados_e_treinamento_da_rede_YOLO.ipynb\" target=\"_parent\"><img src=\"https://colab.research.google.com/assets/colab-badge.svg\" alt=\"Open In Colab\"/></a>"
      ]
    },
    {
      "cell_type": "markdown",
      "source": [
        "🧠 OBJETIVO\n",
        "\n",
        "➡️ Fazer fine-tuning do YOLOv3 pré-treinado no COCO (80 classes originais) adicionando 2 classes novas personalizadas ao modelo."
      ],
      "metadata": {
        "id": "5nzbRNA_VY12"
      }
    },
    {
      "cell_type": "code",
      "execution_count": null,
      "metadata": {
        "id": "sxuwccsZVMfO"
      },
      "outputs": [],
      "source": [
        "!git clone https://github.com/AlexeyAB/darknet\n",
        "%cd darknet\n",
        "!sed -i 's/OPENCV=0/OPENCV=1/' Makefile\n",
        "!sed -i 's/GPU=0/GPU=1/' Makefile\n",
        "!sed -i 's/CUDNN=0/CUDNN=1/' Makefile\n",
        "!sed -i 's/CUDNN_HALF=0/CUDNN_HALF=1/' Makefile\n",
        "!make"
      ]
    },
    {
      "cell_type": "code",
      "source": [
        "# Cria pasta de dados\n",
        "%cd /content\n",
        "!mkdir -p data && cd data\n",
        "\n",
        "# Baixa imagens e anotações COCO (val2017 como exemplo)\n",
        "!wget http://images.cocodataset.org/zips/val2017.zip\n",
        "!unzip -q val2017.zip -d data/\n",
        "\n",
        "!wget http://images.cocodataset.org/annotations/annotations_trainval2017.zip\n",
        "!unzip -q annotations_trainval2017.zip -d data/"
      ],
      "metadata": {
        "id": "QnI4nWOCVvRR"
      },
      "execution_count": null,
      "outputs": []
    },
    {
      "cell_type": "code",
      "source": [
        "import json\n",
        "import os\n",
        "from pathlib import Path\n",
        "from tqdm import tqdm\n",
        "\n",
        "json_path = \"/content/data/annotations/instances_val2017.json\"\n",
        "images_dir = \"/content/data/val2017\"\n",
        "output_dir = \"/content/data/val2017/labels\"\n",
        "\n",
        "os.makedirs(output_dir, exist_ok=True)\n",
        "\n",
        "# COCO classes\n",
        "with open(json_path) as f:\n",
        "    coco = json.load(f)\n",
        "\n",
        "# Mapeia categoria para nome e índice\n",
        "categories = {cat['id']: cat['name'] for cat in coco['categories']}\n",
        "category_id_map = {cat['id']: i for i, cat in enumerate(coco['categories'])}\n",
        "\n",
        "# Agrupa anotações por imagem\n",
        "annotations_by_image = {}\n",
        "for ann in coco['annotations']:\n",
        "    image_id = ann['image_id']\n",
        "    annotations_by_image.setdefault(image_id, []).append(ann)\n",
        "\n",
        "# Cria arquivos de label no formato YOLO\n",
        "for img in tqdm(coco['images']):\n",
        "    img_id = img['id']\n",
        "    file_name = img['file_name']\n",
        "    width = img['width']\n",
        "    height = img['height']\n",
        "    label_path = os.path.join(output_dir, Path(file_name).stem + '.txt')\n",
        "\n",
        "    with open(label_path, 'w') as f:\n",
        "        for ann in annotations_by_image.get(img_id, []):\n",
        "            cat_id = ann['category_id']\n",
        "            x, y, w, h = ann['bbox']\n",
        "            x_center = (x + w / 2) / width\n",
        "            y_center = (y + h / 2) / height\n",
        "            w /= width\n",
        "            h /= height\n",
        "            class_id = category_id_map[cat_id]\n",
        "            f.write(f\"{class_id} {x_center:.6f} {y_center:.6f} {w:.6f} {h:.6f}\\n\")\n"
      ],
      "metadata": {
        "colab": {
          "base_uri": "https://localhost:8080/"
        },
        "id": "BFdBrFSqVzzW",
        "outputId": "679847f9-8360-4feb-85f8-f6e6837db400"
      },
      "execution_count": 24,
      "outputs": [
        {
          "output_type": "stream",
          "name": "stderr",
          "text": [
            "100%|██████████| 5000/5000 [00:00<00:00, 7773.94it/s]\n"
          ]
        }
      ]
    },
    {
      "cell_type": "code",
      "source": [
        "# Novas classes adicionadas \"CAPACETE\", \"MASCARA\"\n",
        "classes = [\n",
        "    \"person\", \"bicycle\", \"car\", \"motorcycle\", \"airplane\", \"bus\", \"train\", \"truck\", \"boat\",\n",
        "    \"traffic light\", \"fire hydrant\", \"stop sign\", \"parking meter\", \"bench\", \"bird\", \"cat\",\n",
        "    \"dog\", \"horse\", \"sheep\", \"cow\", \"elephant\", \"bear\", \"zebra\", \"giraffe\", \"backpack\",\n",
        "    \"umbrella\", \"handbag\", \"tie\", \"suitcase\", \"frisbee\", \"skis\", \"snowboard\", \"sports ball\",\n",
        "    \"kite\", \"baseball bat\", \"baseball glove\", \"skateboard\", \"surfboard\", \"tennis racket\",\n",
        "    \"bottle\", \"wine glass\", \"cup\", \"fork\", \"knife\", \"spoon\", \"bowl\", \"banana\", \"apple\",\n",
        "    \"sandwich\", \"orange\", \"broccoli\", \"carrot\", \"hot dog\", \"pizza\", \"donut\", \"cake\",\n",
        "    \"chair\", \"couch\", \"potted plant\", \"bed\", \"dining table\", \"toilet\", \"tv\", \"laptop\",\n",
        "    \"mouse\", \"remote\", \"keyboard\", \"cell phone\", \"microwave\", \"oven\", \"toaster\", \"sink\",\n",
        "    \"refrigerator\", \"book\", \"clock\", \"vase\", \"scissors\", \"teddy bear\", \"hair drier\", \"toothbrush\",\n",
        "    \"capacete\", \"mascara\"\n",
        "]\n",
        "\n",
        "os.makedirs(\"cfg\", exist_ok=True)\n",
        "\n",
        "with open(\"cfg/obj.names\", \"w\") as f:\n",
        "    for cls in classes:\n",
        "        f.write(cls + \"\\n\")"
      ],
      "metadata": {
        "id": "BkhINJwkX7iq"
      },
      "execution_count": 25,
      "outputs": []
    },
    {
      "cell_type": "code",
      "source": [
        "!find /content/data/val2017 -name \"*.jpg\" > /content/darknet/data/train.txt"
      ],
      "metadata": {
        "id": "e4kyrgRIYMRZ"
      },
      "execution_count": 27,
      "outputs": []
    },
    {
      "cell_type": "code",
      "source": [
        "with open(\"/content/darknet/data/obj.data\", \"w\") as f:\n",
        "    f.write(f\"classes = {len(classes)}\\n\")\n",
        "    f.write(\"train = data/train.txt\\n\")\n",
        "    f.write(\"names = data/obj.names\\n\")\n",
        "    f.write(\"backup = backup/\\n\")"
      ],
      "metadata": {
        "id": "WDsrt5O4Zd-Z"
      },
      "execution_count": 18,
      "outputs": []
    },
    {
      "cell_type": "code",
      "source": [
        "!wget https://raw.githubusercontent.com/pjreddie/darknet/master/cfg/yolov3.cfg -O /content/darknet/cfg/yolov3.cfg\n"
      ],
      "metadata": {
        "colab": {
          "base_uri": "https://localhost:8080/"
        },
        "id": "HqNG3jX8fvn1",
        "outputId": "a3827297-f874-4f0f-c3c7-ed5166571b95"
      },
      "execution_count": 28,
      "outputs": [
        {
          "output_type": "stream",
          "name": "stdout",
          "text": [
            "--2025-07-20 17:42:23--  https://raw.githubusercontent.com/pjreddie/darknet/master/cfg/yolov3.cfg\n",
            "Resolving raw.githubusercontent.com (raw.githubusercontent.com)... 185.199.108.133, 185.199.109.133, 185.199.110.133, ...\n",
            "Connecting to raw.githubusercontent.com (raw.githubusercontent.com)|185.199.108.133|:443... connected.\n",
            "HTTP request sent, awaiting response... 200 OK\n",
            "Length: 8342 (8.1K) [text/plain]\n",
            "Saving to: ‘/content/darknet/cfg/yolov3.cfg’\n",
            "\n",
            "\r          /content/   0%[                    ]       0  --.-KB/s               \r/content/darknet/cf 100%[===================>]   8.15K  --.-KB/s    in 0s      \n",
            "\n",
            "2025-07-20 17:42:23 (81.2 MB/s) - ‘/content/darknet/cfg/yolov3.cfg’ saved [8342/8342]\n",
            "\n"
          ]
        }
      ]
    },
    {
      "cell_type": "code",
      "source": [
        "# Altera cfg para yolov3-custom.cfg com 82 classes\n",
        "cfg_path = \"/content/darknet/cfg/yolov3.cfg\"\n",
        "new_cfg_path = \"/content/darknet/cfg/yolov3-custom.cfg\"\n",
        "\n",
        "with open(cfg_path) as f:\n",
        "    lines = f.readlines()\n",
        "\n",
        "with open(new_cfg_path, \"w\") as f:\n",
        "    for i in range(len(lines)):\n",
        "        if \"filters=\" in lines[i]:\n",
        "            # A camada [convolutional] antes da [yolo] deve ser ajustada\n",
        "            f.write(\"filters=255\\n\" if \"yolo\" not in lines[i+1].lower() else \"filters=255\\n\")\n",
        "        elif \"classes=\" in lines[i]:\n",
        "            f.write(\"classes=82\\n\")\n",
        "        else:\n",
        "            f.write(lines[i])\n"
      ],
      "metadata": {
        "id": "v5Zbfl3nfyHj"
      },
      "execution_count": 29,
      "outputs": []
    },
    {
      "cell_type": "code",
      "source": [
        "!./darknet/darknet detector train darknet/data/obj.data cfg/yolov3-custom.cfg yolov3.weights -dont_show -map\n"
      ],
      "metadata": {
        "id": "e4M5M9Nwf1D7"
      },
      "execution_count": 35,
      "outputs": []
    },
    {
      "cell_type": "code",
      "source": [
        "!wget https://pjreddie.com/media/files/darknet53.conv.74\n",
        "!./darknet/darknet detector train darknet/data/obj.data cfg/yolov3-custom.cfg darknet53.conv.74 -dont_show -map\n"
      ],
      "metadata": {
        "colab": {
          "base_uri": "https://localhost:8080/"
        },
        "id": "6RA4FL8vf4LD",
        "outputId": "a8deb8eb-1e8b-4599-8af8-17b07e4bd240"
      },
      "execution_count": 37,
      "outputs": [
        {
          "output_type": "stream",
          "name": "stdout",
          "text": [
            "--2025-07-20 17:44:52--  https://pjreddie.com/media/files/darknet53.conv.74\n",
            "Resolving pjreddie.com (pjreddie.com)... 172.67.185.199, 104.21.88.156, 2606:4700:3037::6815:589c, ...\n",
            "Connecting to pjreddie.com (pjreddie.com)|172.67.185.199|:443... connected.\n",
            "HTTP request sent, awaiting response... 200 OK\n",
            "Length: unspecified [text/html]\n",
            "Saving to: ‘darknet53.conv.74.4’\n",
            "\n",
            "\rdarknet53.conv.74.4     [<=>                 ]       0  --.-KB/s               \rdarknet53.conv.74.4     [ <=>                ]   8.88K  --.-KB/s    in 0s      \n",
            "\n",
            "2025-07-20 17:44:53 (81.4 MB/s) - ‘darknet53.conv.74.4’ saved [9093]\n",
            "\n"
          ]
        }
      ]
    },
    {
      "cell_type": "code",
      "source": [
        "!./darknet/darknet detector test data/obj.data cfg/yolov3-custom.cfg backup/yolov3-custom_final.weights -thresh 0.3 -dont_show -ext_output -out result.json data/val2017/000000000139.jpg"
      ],
      "metadata": {
        "id": "U_cVPJXvf7ar"
      },
      "execution_count": 40,
      "outputs": []
    }
  ]
}